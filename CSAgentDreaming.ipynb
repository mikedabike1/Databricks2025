{
 "cells": [
  {
   "cell_type": "code",
   "execution_count": 0,
   "metadata": {
    "application/vnd.databricks.v1+cell": {
     "cellMetadata": {
      "byteLimit": 2048000,
      "rowLimit": 10000
     },
     "inputWidgets": {},
     "nuid": "61be0304-36bc-455b-b12a-1f2918b61695",
     "showTitle": false,
     "tableResultSettingsMap": {},
     "title": ""
    }
   },
   "outputs": [
    {
     "output_type": "stream",
     "name": "stdout",
     "output_type": "stream",
     "text": [
      "Requirement already satisfied: pydantic-ai in /local_disk0/.ephemeral_nfs/envs/pythonEnv-a4064b6b-eb46-4ed1-86f1-2ba2e3b9dcd9/lib/python3.11/site-packages (0.2.16)\nRequirement already satisfied: pydantic-ai-slim==0.2.16 in /local_disk0/.ephemeral_nfs/envs/pythonEnv-a4064b6b-eb46-4ed1-86f1-2ba2e3b9dcd9/lib/python3.11/site-packages (from pydantic-ai-slim[a2a,anthropic,bedrock,cli,cohere,evals,google,groq,mcp,mistral,openai,vertexai]==0.2.16->pydantic-ai) (0.2.16)\nRequirement already satisfied: eval-type-backport>=0.2.0 in /local_disk0/.ephemeral_nfs/envs/pythonEnv-a4064b6b-eb46-4ed1-86f1-2ba2e3b9dcd9/lib/python3.11/site-packages (from pydantic-ai-slim==0.2.16->pydantic-ai-slim[a2a,anthropic,bedrock,cli,cohere,evals,google,groq,mcp,mistral,openai,vertexai]==0.2.16->pydantic-ai) (0.2.2)\nRequirement already satisfied: griffe>=1.3.2 in /local_disk0/.ephemeral_nfs/envs/pythonEnv-a4064b6b-eb46-4ed1-86f1-2ba2e3b9dcd9/lib/python3.11/site-packages (from pydantic-ai-slim==0.2.16->pydantic-ai-slim[a2a,anthropic,bedrock,cli,cohere,evals,google,groq,mcp,mistral,openai,vertexai]==0.2.16->pydantic-ai) (1.7.3)\nRequirement already satisfied: httpx>=0.27 in /local_disk0/.ephemeral_nfs/envs/pythonEnv-a4064b6b-eb46-4ed1-86f1-2ba2e3b9dcd9/lib/python3.11/site-packages (from pydantic-ai-slim==0.2.16->pydantic-ai-slim[a2a,anthropic,bedrock,cli,cohere,evals,google,groq,mcp,mistral,openai,vertexai]==0.2.16->pydantic-ai) (0.28.1)\nRequirement already satisfied: opentelemetry-api>=1.28.0 in /local_disk0/.ephemeral_nfs/envs/pythonEnv-a4064b6b-eb46-4ed1-86f1-2ba2e3b9dcd9/lib/python3.11/site-packages (from pydantic-ai-slim==0.2.16->pydantic-ai-slim[a2a,anthropic,bedrock,cli,cohere,evals,google,groq,mcp,mistral,openai,vertexai]==0.2.16->pydantic-ai) (1.34.0)\nRequirement already satisfied: pydantic-graph==0.2.16 in /local_disk0/.ephemeral_nfs/envs/pythonEnv-a4064b6b-eb46-4ed1-86f1-2ba2e3b9dcd9/lib/python3.11/site-packages (from pydantic-ai-slim==0.2.16->pydantic-ai-slim[a2a,anthropic,bedrock,cli,cohere,evals,google,groq,mcp,mistral,openai,vertexai]==0.2.16->pydantic-ai) (0.2.16)\nRequirement already satisfied: pydantic>=2.10 in /local_disk0/.ephemeral_nfs/envs/pythonEnv-a4064b6b-eb46-4ed1-86f1-2ba2e3b9dcd9/lib/python3.11/site-packages (from pydantic-ai-slim==0.2.16->pydantic-ai-slim[a2a,anthropic,bedrock,cli,cohere,evals,google,groq,mcp,mistral,openai,vertexai]==0.2.16->pydantic-ai) (2.11.5)\nRequirement already satisfied: typing-inspection>=0.4.0 in /local_disk0/.ephemeral_nfs/envs/pythonEnv-a4064b6b-eb46-4ed1-86f1-2ba2e3b9dcd9/lib/python3.11/site-packages (from pydantic-ai-slim==0.2.16->pydantic-ai-slim[a2a,anthropic,bedrock,cli,cohere,evals,google,groq,mcp,mistral,openai,vertexai]==0.2.16->pydantic-ai) (0.4.1)\nRequirement already satisfied: fasta2a==0.2.16 in /local_disk0/.ephemeral_nfs/envs/pythonEnv-a4064b6b-eb46-4ed1-86f1-2ba2e3b9dcd9/lib/python3.11/site-packages (from pydantic-ai-slim[a2a,anthropic,bedrock,cli,cohere,evals,google,groq,mcp,mistral,openai,vertexai]==0.2.16->pydantic-ai) (0.2.16)\nRequirement already satisfied: cohere>=5.13.11 in /local_disk0/.ephemeral_nfs/envs/pythonEnv-a4064b6b-eb46-4ed1-86f1-2ba2e3b9dcd9/lib/python3.11/site-packages (from pydantic-ai-slim[a2a,anthropic,bedrock,cli,cohere,evals,google,groq,mcp,mistral,openai,vertexai]==0.2.16->pydantic-ai) (5.15.0)\nRequirement already satisfied: anthropic>=0.52.0 in /local_disk0/.ephemeral_nfs/envs/pythonEnv-a4064b6b-eb46-4ed1-86f1-2ba2e3b9dcd9/lib/python3.11/site-packages (from pydantic-ai-slim[a2a,anthropic,bedrock,cli,cohere,evals,google,groq,mcp,mistral,openai,vertexai]==0.2.16->pydantic-ai) (0.52.2)\nRequirement already satisfied: mcp>=1.9.0 in /local_disk0/.ephemeral_nfs/envs/pythonEnv-a4064b6b-eb46-4ed1-86f1-2ba2e3b9dcd9/lib/python3.11/site-packages (from pydantic-ai-slim[a2a,anthropic,bedrock,cli,cohere,evals,google,groq,mcp,mistral,openai,vertexai]==0.2.16->pydantic-ai) (1.9.3)\nRequirement already satisfied: boto3>=1.35.74 in /local_disk0/.ephemeral_nfs/envs/pythonEnv-a4064b6b-eb46-4ed1-86f1-2ba2e3b9dcd9/lib/python3.11/site-packages (from pydantic-ai-slim[a2a,anthropic,bedrock,cli,cohere,evals,google,groq,mcp,mistral,openai,vertexai]==0.2.16->pydantic-ai) (1.38.32)\nRequirement already satisfied: google-auth>=2.36.0 in /local_disk0/.ephemeral_nfs/envs/pythonEnv-a4064b6b-eb46-4ed1-86f1-2ba2e3b9dcd9/lib/python3.11/site-packages (from pydantic-ai-slim[a2a,anthropic,bedrock,cli,cohere,evals,google,groq,mcp,mistral,openai,vertexai]==0.2.16->pydantic-ai) (2.40.3)\nRequirement already satisfied: requests>=2.32.2 in /local_disk0/.ephemeral_nfs/envs/pythonEnv-a4064b6b-eb46-4ed1-86f1-2ba2e3b9dcd9/lib/python3.11/site-packages (from pydantic-ai-slim[a2a,anthropic,bedrock,cli,cohere,evals,google,groq,mcp,mistral,openai,vertexai]==0.2.16->pydantic-ai) (2.32.3)\nRequirement already satisfied: mistralai>=1.2.5 in /local_disk0/.ephemeral_nfs/envs/pythonEnv-a4064b6b-eb46-4ed1-86f1-2ba2e3b9dcd9/lib/python3.11/site-packages (from pydantic-ai-slim[a2a,anthropic,bedrock,cli,cohere,evals,google,groq,mcp,mistral,openai,vertexai]==0.2.16->pydantic-ai) (1.8.1)\nRequirement already satisfied: openai>=1.75.0 in /local_disk0/.ephemeral_nfs/envs/pythonEnv-a4064b6b-eb46-4ed1-86f1-2ba2e3b9dcd9/lib/python3.11/site-packages (from pydantic-ai-slim[a2a,anthropic,bedrock,cli,cohere,evals,google,groq,mcp,mistral,openai,vertexai]==0.2.16->pydantic-ai) (1.84.0)\nRequirement already satisfied: groq>=0.15.0 in /local_disk0/.ephemeral_nfs/envs/pythonEnv-a4064b6b-eb46-4ed1-86f1-2ba2e3b9dcd9/lib/python3.11/site-packages (from pydantic-ai-slim[a2a,anthropic,bedrock,cli,cohere,evals,google,groq,mcp,mistral,openai,vertexai]==0.2.16->pydantic-ai) (0.26.0)\nRequirement already satisfied: google-genai>=1.15.0 in /local_disk0/.ephemeral_nfs/envs/pythonEnv-a4064b6b-eb46-4ed1-86f1-2ba2e3b9dcd9/lib/python3.11/site-packages (from pydantic-ai-slim[a2a,anthropic,bedrock,cli,cohere,evals,google,groq,mcp,mistral,openai,vertexai]==0.2.16->pydantic-ai) (1.19.0)\nRequirement already satisfied: argcomplete>=3.5.0 in /local_disk0/.ephemeral_nfs/envs/pythonEnv-a4064b6b-eb46-4ed1-86f1-2ba2e3b9dcd9/lib/python3.11/site-packages (from pydantic-ai-slim[a2a,anthropic,bedrock,cli,cohere,evals,google,groq,mcp,mistral,openai,vertexai]==0.2.16->pydantic-ai) (3.6.2)\nRequirement already satisfied: prompt-toolkit>=3 in /databricks/python3/lib/python3.11/site-packages (from pydantic-ai-slim[a2a,anthropic,bedrock,cli,cohere,evals,google,groq,mcp,mistral,openai,vertexai]==0.2.16->pydantic-ai) (3.0.48)\nRequirement already satisfied: rich>=13 in /local_disk0/.ephemeral_nfs/envs/pythonEnv-a4064b6b-eb46-4ed1-86f1-2ba2e3b9dcd9/lib/python3.11/site-packages (from pydantic-ai-slim[a2a,anthropic,bedrock,cli,cohere,evals,google,groq,mcp,mistral,openai,vertexai]==0.2.16->pydantic-ai) (14.0.0)\nRequirement already satisfied: pydantic-evals==0.2.16 in /local_disk0/.ephemeral_nfs/envs/pythonEnv-a4064b6b-eb46-4ed1-86f1-2ba2e3b9dcd9/lib/python3.11/site-packages (from pydantic-ai-slim[a2a,anthropic,bedrock,cli,cohere,evals,google,groq,mcp,mistral,openai,vertexai]==0.2.16->pydantic-ai) (0.2.16)\nRequirement already satisfied: starlette>0.29.0 in /local_disk0/.ephemeral_nfs/envs/pythonEnv-a4064b6b-eb46-4ed1-86f1-2ba2e3b9dcd9/lib/python3.11/site-packages (from fasta2a==0.2.16->pydantic-ai-slim[a2a,anthropic,bedrock,cli,cohere,evals,google,groq,mcp,mistral,openai,vertexai]==0.2.16->pydantic-ai) (0.47.0)\nRequirement already satisfied: anyio>=0 in /local_disk0/.ephemeral_nfs/envs/pythonEnv-a4064b6b-eb46-4ed1-86f1-2ba2e3b9dcd9/lib/python3.11/site-packages (from pydantic-evals==0.2.16->pydantic-ai-slim[a2a,anthropic,bedrock,cli,cohere,evals,google,groq,mcp,mistral,openai,vertexai]==0.2.16->pydantic-ai) (4.9.0)\nRequirement already satisfied: logfire-api>=1.2.0 in /local_disk0/.ephemeral_nfs/envs/pythonEnv-a4064b6b-eb46-4ed1-86f1-2ba2e3b9dcd9/lib/python3.11/site-packages (from pydantic-evals==0.2.16->pydantic-ai-slim[a2a,anthropic,bedrock,cli,cohere,evals,google,groq,mcp,mistral,openai,vertexai]==0.2.16->pydantic-ai) (3.18.0)\nRequirement already satisfied: pyyaml>=6.0.2 in /local_disk0/.ephemeral_nfs/envs/pythonEnv-a4064b6b-eb46-4ed1-86f1-2ba2e3b9dcd9/lib/python3.11/site-packages (from pydantic-evals==0.2.16->pydantic-ai-slim[a2a,anthropic,bedrock,cli,cohere,evals,google,groq,mcp,mistral,openai,vertexai]==0.2.16->pydantic-ai) (6.0.2)\nRequirement already satisfied: distro<2,>=1.7.0 in /usr/lib/python3/dist-packages (from anthropic>=0.52.0->pydantic-ai-slim[a2a,anthropic,bedrock,cli,cohere,evals,google,groq,mcp,mistral,openai,vertexai]==0.2.16->pydantic-ai) (1.7.0)\nRequirement already satisfied: jiter<1,>=0.4.0 in /local_disk0/.ephemeral_nfs/envs/pythonEnv-a4064b6b-eb46-4ed1-86f1-2ba2e3b9dcd9/lib/python3.11/site-packages (from anthropic>=0.52.0->pydantic-ai-slim[a2a,anthropic,bedrock,cli,cohere,evals,google,groq,mcp,mistral,openai,vertexai]==0.2.16->pydantic-ai) (0.10.0)\nRequirement already satisfied: sniffio in /local_disk0/.ephemeral_nfs/envs/pythonEnv-a4064b6b-eb46-4ed1-86f1-2ba2e3b9dcd9/lib/python3.11/site-packages (from anthropic>=0.52.0->pydantic-ai-slim[a2a,anthropic,bedrock,cli,cohere,evals,google,groq,mcp,mistral,openai,vertexai]==0.2.16->pydantic-ai) (1.3.1)\nRequirement already satisfied: typing-extensions<5,>=4.10 in /local_disk0/.ephemeral_nfs/envs/pythonEnv-a4064b6b-eb46-4ed1-86f1-2ba2e3b9dcd9/lib/python3.11/site-packages (from anthropic>=0.52.0->pydantic-ai-slim[a2a,anthropic,bedrock,cli,cohere,evals,google,groq,mcp,mistral,openai,vertexai]==0.2.16->pydantic-ai) (4.14.0)\nRequirement already satisfied: botocore<1.39.0,>=1.38.32 in /local_disk0/.ephemeral_nfs/envs/pythonEnv-a4064b6b-eb46-4ed1-86f1-2ba2e3b9dcd9/lib/python3.11/site-packages (from boto3>=1.35.74->pydantic-ai-slim[a2a,anthropic,bedrock,cli,cohere,evals,google,groq,mcp,mistral,openai,vertexai]==0.2.16->pydantic-ai) (1.38.32)\nRequirement already satisfied: jmespath<2.0.0,>=0.7.1 in /databricks/python3/lib/python3.11/site-packages (from boto3>=1.35.74->pydantic-ai-slim[a2a,anthropic,bedrock,cli,cohere,evals,google,groq,mcp,mistral,openai,vertexai]==0.2.16->pydantic-ai) (0.10.0)\nRequirement already satisfied: s3transfer<0.14.0,>=0.13.0 in /local_disk0/.ephemeral_nfs/envs/pythonEnv-a4064b6b-eb46-4ed1-86f1-2ba2e3b9dcd9/lib/python3.11/site-packages (from boto3>=1.35.74->pydantic-ai-slim[a2a,anthropic,bedrock,cli,cohere,evals,google,groq,mcp,mistral,openai,vertexai]==0.2.16->pydantic-ai) (0.13.0)\nRequirement already satisfied: fastavro<2.0.0,>=1.9.4 in /local_disk0/.ephemeral_nfs/envs/pythonEnv-a4064b6b-eb46-4ed1-86f1-2ba2e3b9dcd9/lib/python3.11/site-packages (from cohere>=5.13.11->pydantic-ai-slim[a2a,anthropic,bedrock,cli,cohere,evals,google,groq,mcp,mistral,openai,vertexai]==0.2.16->pydantic-ai) (1.11.1)\nRequirement already satisfied: httpx-sse==0.4.0 in /local_disk0/.ephemeral_nfs/envs/pythonEnv-a4064b6b-eb46-4ed1-86f1-2ba2e3b9dcd9/lib/python3.11/site-packages (from cohere>=5.13.11->pydantic-ai-slim[a2a,anthropic,bedrock,cli,cohere,evals,google,groq,mcp,mistral,openai,vertexai]==0.2.16->pydantic-ai) (0.4.0)\nRequirement already satisfied: pydantic-core<3.0.0,>=2.18.2 in /local_disk0/.ephemeral_nfs/envs/pythonEnv-a4064b6b-eb46-4ed1-86f1-2ba2e3b9dcd9/lib/python3.11/site-packages (from cohere>=5.13.11->pydantic-ai-slim[a2a,anthropic,bedrock,cli,cohere,evals,google,groq,mcp,mistral,openai,vertexai]==0.2.16->pydantic-ai) (2.33.2)\nRequirement already satisfied: tokenizers<1,>=0.15 in /local_disk0/.ephemeral_nfs/envs/pythonEnv-a4064b6b-eb46-4ed1-86f1-2ba2e3b9dcd9/lib/python3.11/site-packages (from cohere>=5.13.11->pydantic-ai-slim[a2a,anthropic,bedrock,cli,cohere,evals,google,groq,mcp,mistral,openai,vertexai]==0.2.16->pydantic-ai) (0.21.1)\nRequirement already satisfied: types-requests<3.0.0,>=2.0.0 in /local_disk0/.ephemeral_nfs/envs/pythonEnv-a4064b6b-eb46-4ed1-86f1-2ba2e3b9dcd9/lib/python3.11/site-packages (from cohere>=5.13.11->pydantic-ai-slim[a2a,anthropic,bedrock,cli,cohere,evals,google,groq,mcp,mistral,openai,vertexai]==0.2.16->pydantic-ai) (2.32.0.20250602)\nRequirement already satisfied: cachetools<6.0,>=2.0.0 in /databricks/python3/lib/python3.11/site-packages (from google-auth>=2.36.0->pydantic-ai-slim[a2a,anthropic,bedrock,cli,cohere,evals,google,groq,mcp,mistral,openai,vertexai]==0.2.16->pydantic-ai) (5.5.0)\nRequirement already satisfied: pyasn1-modules>=0.2.1 in /databricks/python3/lib/python3.11/site-packages (from google-auth>=2.36.0->pydantic-ai-slim[a2a,anthropic,bedrock,cli,cohere,evals,google,groq,mcp,mistral,openai,vertexai]==0.2.16->pydantic-ai) (0.2.8)\nRequirement already satisfied: rsa<5,>=3.1.4 in /databricks/python3/lib/python3.11/site-packages (from google-auth>=2.36.0->pydantic-ai-slim[a2a,anthropic,bedrock,cli,cohere,evals,google,groq,mcp,mistral,openai,vertexai]==0.2.16->pydantic-ai) (4.9)\nRequirement already satisfied: websockets<15.1.0,>=13.0.0 in /local_disk0/.ephemeral_nfs/envs/pythonEnv-a4064b6b-eb46-4ed1-86f1-2ba2e3b9dcd9/lib/python3.11/site-packages (from google-genai>=1.15.0->pydantic-ai-slim[a2a,anthropic,bedrock,cli,cohere,evals,google,groq,mcp,mistral,openai,vertexai]==0.2.16->pydantic-ai) (15.0.1)\nRequirement already satisfied: colorama>=0.4 in /local_disk0/.ephemeral_nfs/envs/pythonEnv-a4064b6b-eb46-4ed1-86f1-2ba2e3b9dcd9/lib/python3.11/site-packages (from griffe>=1.3.2->pydantic-ai-slim==0.2.16->pydantic-ai-slim[a2a,anthropic,bedrock,cli,cohere,evals,google,groq,mcp,mistral,openai,vertexai]==0.2.16->pydantic-ai) (0.4.6)\nRequirement already satisfied: certifi in /databricks/python3/lib/python3.11/site-packages (from httpx>=0.27->pydantic-ai-slim==0.2.16->pydantic-ai-slim[a2a,anthropic,bedrock,cli,cohere,evals,google,groq,mcp,mistral,openai,vertexai]==0.2.16->pydantic-ai) (2023.7.22)\nRequirement already satisfied: httpcore==1.* in /local_disk0/.ephemeral_nfs/envs/pythonEnv-a4064b6b-eb46-4ed1-86f1-2ba2e3b9dcd9/lib/python3.11/site-packages (from httpx>=0.27->pydantic-ai-slim==0.2.16->pydantic-ai-slim[a2a,anthropic,bedrock,cli,cohere,evals,google,groq,mcp,mistral,openai,vertexai]==0.2.16->pydantic-ai) (1.0.9)\nRequirement already satisfied: idna in /databricks/python3/lib/python3.11/site-packages (from httpx>=0.27->pydantic-ai-slim==0.2.16->pydantic-ai-slim[a2a,anthropic,bedrock,cli,cohere,evals,google,groq,mcp,mistral,openai,vertexai]==0.2.16->pydantic-ai) (3.4)\nRequirement already satisfied: h11>=0.16 in /local_disk0/.ephemeral_nfs/envs/pythonEnv-a4064b6b-eb46-4ed1-86f1-2ba2e3b9dcd9/lib/python3.11/site-packages (from httpcore==1.*->httpx>=0.27->pydantic-ai-slim==0.2.16->pydantic-ai-slim[a2a,anthropic,bedrock,cli,cohere,evals,google,groq,mcp,mistral,openai,vertexai]==0.2.16->pydantic-ai) (0.16.0)\nRequirement already satisfied: pydantic-settings>=2.5.2 in /local_disk0/.ephemeral_nfs/envs/pythonEnv-a4064b6b-eb46-4ed1-86f1-2ba2e3b9dcd9/lib/python3.11/site-packages (from mcp>=1.9.0->pydantic-ai-slim[a2a,anthropic,bedrock,cli,cohere,evals,google,groq,mcp,mistral,openai,vertexai]==0.2.16->pydantic-ai) (2.9.1)\nRequirement already satisfied: python-multipart>=0.0.9 in /local_disk0/.ephemeral_nfs/envs/pythonEnv-a4064b6b-eb46-4ed1-86f1-2ba2e3b9dcd9/lib/python3.11/site-packages (from mcp>=1.9.0->pydantic-ai-slim[a2a,anthropic,bedrock,cli,cohere,evals,google,groq,mcp,mistral,openai,vertexai]==0.2.16->pydantic-ai) (0.0.20)\nRequirement already satisfied: sse-starlette>=1.6.1 in /local_disk0/.ephemeral_nfs/envs/pythonEnv-a4064b6b-eb46-4ed1-86f1-2ba2e3b9dcd9/lib/python3.11/site-packages (from mcp>=1.9.0->pydantic-ai-slim[a2a,anthropic,bedrock,cli,cohere,evals,google,groq,mcp,mistral,openai,vertexai]==0.2.16->pydantic-ai) (2.3.6)\nRequirement already satisfied: uvicorn>=0.23.1 in /local_disk0/.ephemeral_nfs/envs/pythonEnv-a4064b6b-eb46-4ed1-86f1-2ba2e3b9dcd9/lib/python3.11/site-packages (from mcp>=1.9.0->pydantic-ai-slim[a2a,anthropic,bedrock,cli,cohere,evals,google,groq,mcp,mistral,openai,vertexai]==0.2.16->pydantic-ai) (0.34.3)\nRequirement already satisfied: python-dateutil>=2.8.2 in /databricks/python3/lib/python3.11/site-packages (from mistralai>=1.2.5->pydantic-ai-slim[a2a,anthropic,bedrock,cli,cohere,evals,google,groq,mcp,mistral,openai,vertexai]==0.2.16->pydantic-ai) (2.8.2)\nRequirement already satisfied: tqdm>4 in /local_disk0/.ephemeral_nfs/envs/pythonEnv-a4064b6b-eb46-4ed1-86f1-2ba2e3b9dcd9/lib/python3.11/site-packages (from openai>=1.75.0->pydantic-ai-slim[a2a,anthropic,bedrock,cli,cohere,evals,google,groq,mcp,mistral,openai,vertexai]==0.2.16->pydantic-ai) (4.67.1)\nRequirement already satisfied: importlib-metadata<8.8.0,>=6.0 in /databricks/python3/lib/python3.11/site-packages (from opentelemetry-api>=1.28.0->pydantic-ai-slim==0.2.16->pydantic-ai-slim[a2a,anthropic,bedrock,cli,cohere,evals,google,groq,mcp,mistral,openai,vertexai]==0.2.16->pydantic-ai) (6.0.0)\nRequirement already satisfied: wcwidth in /databricks/python3/lib/python3.11/site-packages (from prompt-toolkit>=3->pydantic-ai-slim[a2a,anthropic,bedrock,cli,cohere,evals,google,groq,mcp,mistral,openai,vertexai]==0.2.16->pydantic-ai) (0.2.5)\nRequirement already satisfied: annotated-types>=0.6.0 in /local_disk0/.ephemeral_nfs/envs/pythonEnv-a4064b6b-eb46-4ed1-86f1-2ba2e3b9dcd9/lib/python3.11/site-packages (from pydantic>=2.10->pydantic-ai-slim==0.2.16->pydantic-ai-slim[a2a,anthropic,bedrock,cli,cohere,evals,google,groq,mcp,mistral,openai,vertexai]==0.2.16->pydantic-ai) (0.7.0)\nRequirement already satisfied: charset-normalizer<4,>=2 in /databricks/python3/lib/python3.11/site-packages (from requests>=2.32.2->pydantic-ai-slim[a2a,anthropic,bedrock,cli,cohere,evals,google,groq,mcp,mistral,openai,vertexai]==0.2.16->pydantic-ai) (2.0.4)\nRequirement already satisfied: urllib3<3,>=1.21.1 in /local_disk0/.ephemeral_nfs/envs/pythonEnv-a4064b6b-eb46-4ed1-86f1-2ba2e3b9dcd9/lib/python3.11/site-packages (from requests>=2.32.2->pydantic-ai-slim[a2a,anthropic,bedrock,cli,cohere,evals,google,groq,mcp,mistral,openai,vertexai]==0.2.16->pydantic-ai) (2.4.0)\nRequirement already satisfied: markdown-it-py>=2.2.0 in /local_disk0/.ephemeral_nfs/envs/pythonEnv-a4064b6b-eb46-4ed1-86f1-2ba2e3b9dcd9/lib/python3.11/site-packages (from rich>=13->pydantic-ai-slim[a2a,anthropic,bedrock,cli,cohere,evals,google,groq,mcp,mistral,openai,vertexai]==0.2.16->pydantic-ai) (3.0.0)\nRequirement already satisfied: pygments<3.0.0,>=2.13.0 in /databricks/python3/lib/python3.11/site-packages (from rich>=13->pydantic-ai-slim[a2a,anthropic,bedrock,cli,cohere,evals,google,groq,mcp,mistral,openai,vertexai]==0.2.16->pydantic-ai) (2.15.1)\nRequirement already satisfied: zipp>=0.5 in /databricks/python3/lib/python3.11/site-packages (from importlib-metadata<8.8.0,>=6.0->opentelemetry-api>=1.28.0->pydantic-ai-slim==0.2.16->pydantic-ai-slim[a2a,anthropic,bedrock,cli,cohere,evals,google,groq,mcp,mistral,openai,vertexai]==0.2.16->pydantic-ai) (3.11.0)\nRequirement already satisfied: mdurl~=0.1 in /local_disk0/.ephemeral_nfs/envs/pythonEnv-a4064b6b-eb46-4ed1-86f1-2ba2e3b9dcd9/lib/python3.11/site-packages (from markdown-it-py>=2.2.0->rich>=13->pydantic-ai-slim[a2a,anthropic,bedrock,cli,cohere,evals,google,groq,mcp,mistral,openai,vertexai]==0.2.16->pydantic-ai) (0.1.2)\nRequirement already satisfied: pyasn1<0.5.0,>=0.4.6 in /databricks/python3/lib/python3.11/site-packages (from pyasn1-modules>=0.2.1->google-auth>=2.36.0->pydantic-ai-slim[a2a,anthropic,bedrock,cli,cohere,evals,google,groq,mcp,mistral,openai,vertexai]==0.2.16->pydantic-ai) (0.4.8)\nRequirement already satisfied: python-dotenv>=0.21.0 in /local_disk0/.ephemeral_nfs/envs/pythonEnv-a4064b6b-eb46-4ed1-86f1-2ba2e3b9dcd9/lib/python3.11/site-packages (from pydantic-settings>=2.5.2->mcp>=1.9.0->pydantic-ai-slim[a2a,anthropic,bedrock,cli,cohere,evals,google,groq,mcp,mistral,openai,vertexai]==0.2.16->pydantic-ai) (1.1.0)\nRequirement already satisfied: six>=1.5 in /usr/lib/python3/dist-packages (from python-dateutil>=2.8.2->mistralai>=1.2.5->pydantic-ai-slim[a2a,anthropic,bedrock,cli,cohere,evals,google,groq,mcp,mistral,openai,vertexai]==0.2.16->pydantic-ai) (1.16.0)\nRequirement already satisfied: huggingface-hub<1.0,>=0.16.4 in /local_disk0/.ephemeral_nfs/envs/pythonEnv-a4064b6b-eb46-4ed1-86f1-2ba2e3b9dcd9/lib/python3.11/site-packages (from tokenizers<1,>=0.15->cohere>=5.13.11->pydantic-ai-slim[a2a,anthropic,bedrock,cli,cohere,evals,google,groq,mcp,mistral,openai,vertexai]==0.2.16->pydantic-ai) (0.32.4)\nRequirement already satisfied: click>=7.0 in /databricks/python3/lib/python3.11/site-packages (from uvicorn>=0.23.1->mcp>=1.9.0->pydantic-ai-slim[a2a,anthropic,bedrock,cli,cohere,evals,google,groq,mcp,mistral,openai,vertexai]==0.2.16->pydantic-ai) (8.0.4)\nRequirement already satisfied: filelock in /databricks/python3/lib/python3.11/site-packages (from huggingface-hub<1.0,>=0.16.4->tokenizers<1,>=0.15->cohere>=5.13.11->pydantic-ai-slim[a2a,anthropic,bedrock,cli,cohere,evals,google,groq,mcp,mistral,openai,vertexai]==0.2.16->pydantic-ai) (3.13.4)\nRequirement already satisfied: fsspec>=2023.5.0 in /local_disk0/.ephemeral_nfs/envs/pythonEnv-a4064b6b-eb46-4ed1-86f1-2ba2e3b9dcd9/lib/python3.11/site-packages (from huggingface-hub<1.0,>=0.16.4->tokenizers<1,>=0.15->cohere>=5.13.11->pydantic-ai-slim[a2a,anthropic,bedrock,cli,cohere,evals,google,groq,mcp,mistral,openai,vertexai]==0.2.16->pydantic-ai) (2025.5.1)\nRequirement already satisfied: packaging>=20.9 in /databricks/python3/lib/python3.11/site-packages (from huggingface-hub<1.0,>=0.16.4->tokenizers<1,>=0.15->cohere>=5.13.11->pydantic-ai-slim[a2a,anthropic,bedrock,cli,cohere,evals,google,groq,mcp,mistral,openai,vertexai]==0.2.16->pydantic-ai) (23.2)\nRequirement already satisfied: hf-xet<2.0.0,>=1.1.2 in /local_disk0/.ephemeral_nfs/envs/pythonEnv-a4064b6b-eb46-4ed1-86f1-2ba2e3b9dcd9/lib/python3.11/site-packages (from huggingface-hub<1.0,>=0.16.4->tokenizers<1,>=0.15->cohere>=5.13.11->pydantic-ai-slim[a2a,anthropic,bedrock,cli,cohere,evals,google,groq,mcp,mistral,openai,vertexai]==0.2.16->pydantic-ai) (1.1.3)\n\u001B[43mNote: you may need to restart the kernel using %restart_python or dbutils.library.restartPython() to use updated packages.\u001B[0m\nRequirement already satisfied: pydantic-ai-slim[openai] in /local_disk0/.ephemeral_nfs/envs/pythonEnv-a4064b6b-eb46-4ed1-86f1-2ba2e3b9dcd9/lib/python3.11/site-packages (0.2.16)\nRequirement already satisfied: eval-type-backport>=0.2.0 in /local_disk0/.ephemeral_nfs/envs/pythonEnv-a4064b6b-eb46-4ed1-86f1-2ba2e3b9dcd9/lib/python3.11/site-packages (from pydantic-ai-slim[openai]) (0.2.2)\nRequirement already satisfied: griffe>=1.3.2 in /local_disk0/.ephemeral_nfs/envs/pythonEnv-a4064b6b-eb46-4ed1-86f1-2ba2e3b9dcd9/lib/python3.11/site-packages (from pydantic-ai-slim[openai]) (1.7.3)\nRequirement already satisfied: httpx>=0.27 in /local_disk0/.ephemeral_nfs/envs/pythonEnv-a4064b6b-eb46-4ed1-86f1-2ba2e3b9dcd9/lib/python3.11/site-packages (from pydantic-ai-slim[openai]) (0.28.1)\nRequirement already satisfied: opentelemetry-api>=1.28.0 in /local_disk0/.ephemeral_nfs/envs/pythonEnv-a4064b6b-eb46-4ed1-86f1-2ba2e3b9dcd9/lib/python3.11/site-packages (from pydantic-ai-slim[openai]) (1.34.0)\nRequirement already satisfied: pydantic-graph==0.2.16 in /local_disk0/.ephemeral_nfs/envs/pythonEnv-a4064b6b-eb46-4ed1-86f1-2ba2e3b9dcd9/lib/python3.11/site-packages (from pydantic-ai-slim[openai]) (0.2.16)\nRequirement already satisfied: pydantic>=2.10 in /local_disk0/.ephemeral_nfs/envs/pythonEnv-a4064b6b-eb46-4ed1-86f1-2ba2e3b9dcd9/lib/python3.11/site-packages (from pydantic-ai-slim[openai]) (2.11.5)\nRequirement already satisfied: typing-inspection>=0.4.0 in /local_disk0/.ephemeral_nfs/envs/pythonEnv-a4064b6b-eb46-4ed1-86f1-2ba2e3b9dcd9/lib/python3.11/site-packages (from pydantic-ai-slim[openai]) (0.4.1)\nRequirement already satisfied: openai>=1.75.0 in /local_disk0/.ephemeral_nfs/envs/pythonEnv-a4064b6b-eb46-4ed1-86f1-2ba2e3b9dcd9/lib/python3.11/site-packages (from pydantic-ai-slim[openai]) (1.84.0)\nRequirement already satisfied: logfire-api>=1.2.0 in /local_disk0/.ephemeral_nfs/envs/pythonEnv-a4064b6b-eb46-4ed1-86f1-2ba2e3b9dcd9/lib/python3.11/site-packages (from pydantic-graph==0.2.16->pydantic-ai-slim[openai]) (3.18.0)\nRequirement already satisfied: colorama>=0.4 in /local_disk0/.ephemeral_nfs/envs/pythonEnv-a4064b6b-eb46-4ed1-86f1-2ba2e3b9dcd9/lib/python3.11/site-packages (from griffe>=1.3.2->pydantic-ai-slim[openai]) (0.4.6)\nRequirement already satisfied: anyio in /local_disk0/.ephemeral_nfs/envs/pythonEnv-a4064b6b-eb46-4ed1-86f1-2ba2e3b9dcd9/lib/python3.11/site-packages (from httpx>=0.27->pydantic-ai-slim[openai]) (4.9.0)\nRequirement already satisfied: certifi in /databricks/python3/lib/python3.11/site-packages (from httpx>=0.27->pydantic-ai-slim[openai]) (2023.7.22)\nRequirement already satisfied: httpcore==1.* in /local_disk0/.ephemeral_nfs/envs/pythonEnv-a4064b6b-eb46-4ed1-86f1-2ba2e3b9dcd9/lib/python3.11/site-packages (from httpx>=0.27->pydantic-ai-slim[openai]) (1.0.9)\nRequirement already satisfied: idna in /databricks/python3/lib/python3.11/site-packages (from httpx>=0.27->pydantic-ai-slim[openai]) (3.4)\nRequirement already satisfied: h11>=0.16 in /local_disk0/.ephemeral_nfs/envs/pythonEnv-a4064b6b-eb46-4ed1-86f1-2ba2e3b9dcd9/lib/python3.11/site-packages (from httpcore==1.*->httpx>=0.27->pydantic-ai-slim[openai]) (0.16.0)\nRequirement already satisfied: distro<2,>=1.7.0 in /usr/lib/python3/dist-packages (from openai>=1.75.0->pydantic-ai-slim[openai]) (1.7.0)\nRequirement already satisfied: jiter<1,>=0.4.0 in /local_disk0/.ephemeral_nfs/envs/pythonEnv-a4064b6b-eb46-4ed1-86f1-2ba2e3b9dcd9/lib/python3.11/site-packages (from openai>=1.75.0->pydantic-ai-slim[openai]) (0.10.0)\nRequirement already satisfied: sniffio in /local_disk0/.ephemeral_nfs/envs/pythonEnv-a4064b6b-eb46-4ed1-86f1-2ba2e3b9dcd9/lib/python3.11/site-packages (from openai>=1.75.0->pydantic-ai-slim[openai]) (1.3.1)\nRequirement already satisfied: tqdm>4 in /local_disk0/.ephemeral_nfs/envs/pythonEnv-a4064b6b-eb46-4ed1-86f1-2ba2e3b9dcd9/lib/python3.11/site-packages (from openai>=1.75.0->pydantic-ai-slim[openai]) (4.67.1)\nRequirement already satisfied: typing-extensions<5,>=4.11 in /local_disk0/.ephemeral_nfs/envs/pythonEnv-a4064b6b-eb46-4ed1-86f1-2ba2e3b9dcd9/lib/python3.11/site-packages (from openai>=1.75.0->pydantic-ai-slim[openai]) (4.14.0)\nRequirement already satisfied: importlib-metadata<8.8.0,>=6.0 in /databricks/python3/lib/python3.11/site-packages (from opentelemetry-api>=1.28.0->pydantic-ai-slim[openai]) (6.0.0)\nRequirement already satisfied: annotated-types>=0.6.0 in /local_disk0/.ephemeral_nfs/envs/pythonEnv-a4064b6b-eb46-4ed1-86f1-2ba2e3b9dcd9/lib/python3.11/site-packages (from pydantic>=2.10->pydantic-ai-slim[openai]) (0.7.0)\nRequirement already satisfied: pydantic-core==2.33.2 in /local_disk0/.ephemeral_nfs/envs/pythonEnv-a4064b6b-eb46-4ed1-86f1-2ba2e3b9dcd9/lib/python3.11/site-packages (from pydantic>=2.10->pydantic-ai-slim[openai]) (2.33.2)\nRequirement already satisfied: zipp>=0.5 in /databricks/python3/lib/python3.11/site-packages (from importlib-metadata<8.8.0,>=6.0->opentelemetry-api>=1.28.0->pydantic-ai-slim[openai]) (3.11.0)\n\u001B[43mNote: you may need to restart the kernel using %restart_python or dbutils.library.restartPython() to use updated packages.\u001B[0m\n"
     ]
    }
   ],
   "source": [
    "!pip install pydantic-ai\n",
    "!pip install \"pydantic-ai-slim[openai]\""
   ]
  },
  {
   "cell_type": "code",
   "execution_count": 0,
   "metadata": {
    "application/vnd.databricks.v1+cell": {
     "cellMetadata": {
      "byteLimit": 2048000,
      "rowLimit": 10000
     },
     "inputWidgets": {},
     "nuid": "35f6aa9b-c769-4300-9d63-ecda2ccd9be8",
     "showTitle": false,
     "tableResultSettingsMap": {},
     "title": ""
    }
   },
   "outputs": [],
   "source": [
    "%restart_python"
   ]
  },
  {
   "cell_type": "code",
   "execution_count": 0,
   "metadata": {
    "application/vnd.databricks.v1+cell": {
     "cellMetadata": {
      "byteLimit": 2048000,
      "rowLimit": 10000
     },
     "inputWidgets": {},
     "nuid": "5187f1f6-be43-4f57-9ed1-8f7554ccf057",
     "showTitle": false,
     "tableResultSettingsMap": {},
     "title": ""
    }
   },
   "outputs": [],
   "source": [
    "class AbstractDataConnector:\n",
    "    def __init__(self):\n",
    "        pass\n",
    "\n",
    "    def get_email_activity(self):\n",
    "        pass\n",
    "\n",
    "class DatabaseDataConnector(AbstractDataConnector):\n",
    "    def __init__(self):\n",
    "        pass\n",
    "\n",
    "    def get_email_activity(self):\n",
    "        return {\n",
    "            \"subject\": \"Drive way paving\",\n",
    "            \"content\": \"We have a driveway that needs to be paved. Can I get someone out\"\n",
    "        }\n",
    "\n",
    "class MockDataConnector(AbstractDataConnector):\n",
    "    def __init__(self, mock_data: dict):\n",
    "        self.mock_data = mock_data\n",
    "\n",
    "    def get_email_activity(self):\n",
    "        return self.mock_data[\"get_email_activity\"]\n",
    "\n",
    "db_connector = DatabaseDataConnector()\n"
   ]
  },
  {
   "cell_type": "code",
   "execution_count": 0,
   "metadata": {
    "application/vnd.databricks.v1+cell": {
     "cellMetadata": {
      "byteLimit": 2048000,
      "rowLimit": 10000
     },
     "inputWidgets": {},
     "nuid": "0e2146db-d678-41f9-992e-812fc0fb7543",
     "showTitle": false,
     "tableResultSettingsMap": {},
     "title": ""
    }
   },
   "outputs": [],
   "source": [
    "class FeedbackData:\n",
    "    def __init__(self):\n",
    "        self.feedback = []\n",
    "\n",
    "    def get_feedback(self):\n",
    "        return self.feedback\n",
    "    \n",
    "    def add_feedback(self, fb):\n",
    "        self.feedback.append(fb)"
   ]
  },
  {
   "cell_type": "code",
   "execution_count": 0,
   "metadata": {
    "application/vnd.databricks.v1+cell": {
     "cellMetadata": {
      "byteLimit": 2048000,
      "rowLimit": 10000
     },
     "inputWidgets": {},
     "nuid": "7c0795cd-6743-458e-90b0-bddee9381619",
     "showTitle": false,
     "tableResultSettingsMap": {},
     "title": ""
    }
   },
   "outputs": [
    {
     "output_type": "stream",
     "name": "stdout",
     "output_type": "stream",
     "text": [
      "  TOOL CALL: get_email_activity\n[{'action': 'ACTION_NOTHING', 'metadata': {}}]\n"
     ]
    }
   ],
   "source": [
    "import nest_asyncio\n",
    "nest_asyncio.apply()\n",
    "\n",
    "\n",
    "from pydantic_ai import Agent\n",
    "from pydantic_ai import Agent, ModelRetry, RunContext\n",
    "\n",
    "import os\n",
    "\n",
    "from dataclasses import dataclass\n",
    "\n",
    "os.environ[\"OPENAI_API_KEY\"] = dbutils.secrets.get(\"openai\", \"api-key\")\n",
    "\n",
    "SYSTEM_PROMPT = \"\"\"\n",
    "You are an event driven assistant that recommends actions to parterns.\n",
    "You work for TBS (TELS Building Services).\n",
    "Customers email you with service information.\n",
    "\n",
    "Please call tools to gather context and then call one of the action tools to generate an aciton.\n",
    "Please always call the get_feedback tool to make sure you are taking in specific buisness rules into account.\n",
    "\"\"\"\n",
    "\n",
    "ACTIONS = {\n",
    "    \"ACTION_SEND_EMAIL\",\n",
    "    \"ACTION_CLOSE_TICKET\",\n",
    "    \"ACTION_NOTHING\"\n",
    "}\n",
    "\n",
    "class CustomerServiceAgent:\n",
    "    pass\n",
    "\n",
    "@dataclass\n",
    "class AgentContext:\n",
    "    agent: CustomerServiceAgent\n",
    "    feedback_source: FeedbackData\n",
    "\n",
    "class CustomerServiceAgent:\n",
    "    def __init__(self, connector):\n",
    "        self.actions_called = []\n",
    "        self.data_connector = connector\n",
    "\n",
    "        pydanitc_agent = Agent(\n",
    "            'openai:gpt-4o',\n",
    "            system_prompt=SYSTEM_PROMPT\n",
    "        )\n",
    "\n",
    "        ########## EXTERNAL DATA SOURCE TOOLS ##########\n",
    "\n",
    "        @pydanitc_agent.tool\n",
    "        async def get_email_activity(\n",
    "            ctx: RunContext[AgentContext]\n",
    "        ) -> dict[str, float]:\n",
    "            \"\"\"Gets the activity of an email\n",
    "            Args:\n",
    "                ctx: The context.\n",
    "            \"\"\"\n",
    "            print(f\"  TOOL CALL: get_email_activity\")\n",
    "            return connector.get_email_activity()\n",
    "        \n",
    "        @pydanitc_agent.tool\n",
    "        async def get_feedback(\n",
    "            ctx: RunContext[AgentContext]\n",
    "        ):\n",
    "            \"\"\"Gets useful rules and prior feedback data to help make a decision\n",
    "            Args:\n",
    "                ctx: The context.\n",
    "            \"\"\"\n",
    "            # As this grows, we can use RAG\n",
    "            feedback = ctx.deps.feedback_source.get_feedback()\n",
    "            if len(feedback) == 0:\n",
    "                return \"No feedback provided as of yet\"\n",
    "            feedback_str = \"\\n\".join(feedback)\n",
    "\n",
    "            return feedback_str\n",
    "\n",
    "\n",
    "        ########## ACTION TOOLS ##########\n",
    "\n",
    "        @pydanitc_agent.tool\n",
    "        async def action_send_email(\n",
    "            ctx: RunContext[AgentContext], email_purpose: str\n",
    "        ) -> dict[str, float]:\n",
    "            \"\"\"Recommends an email action\n",
    "            Args:\n",
    "                ctx: The context.\n",
    "                email_purpose: The purpose of what the email should be about. This should be useful to a sales partner\n",
    "            \"\"\"\n",
    "            print(f\"  TOOL CALL: action_send_email: {email_purpose}\")\n",
    "            ctx.deps.agent.actions_called.append({\n",
    "                \"action\": \"ACTION_SEND_EMAIL\",\n",
    "                \"metadata\": {\n",
    "                    \"purpose\": email_purpose\n",
    "                }\n",
    "            })\n",
    "            return {'status': 'success'}\n",
    "\n",
    "        @pydanitc_agent.tool\n",
    "        async def action_close_ticket(\n",
    "            ctx: RunContext[AgentContext], reason: str\n",
    "        ) -> dict[str, float]:\n",
    "            \"\"\"Recommends agent closes ticket\n",
    "            Args:\n",
    "                ctx: The context.\n",
    "                reason: The reason for closure\n",
    "            \"\"\"\n",
    "            print(f\"  TOOL CALL: action_close_ticket: {reason}\")\n",
    "            ctx.deps.agent.actions_called.append({\n",
    "                \"action\": \"ACTION_CLOSE_TICKET\",\n",
    "                \"metadata\": {\n",
    "                    \"reason\": reason\n",
    "                }\n",
    "            })\n",
    "            return {'status': 'success'}\n",
    "\n",
    "        @pydanitc_agent.tool\n",
    "        async def action_no_action(\n",
    "            ctx: RunContext[AgentContext]\n",
    "        ) -> dict[str, float]:\n",
    "            \"\"\"Recommends no action\n",
    "            Args:\n",
    "                ctx: The context.\n",
    "            \"\"\"\n",
    "            ctx.deps.agent.actions_called.append({\n",
    "                \"action\": \"ACTION_NOTHING\",\n",
    "                \"metadata\": {}\n",
    "            })\n",
    "            return {'status': 'success'}\n",
    "        \n",
    "        self.agent = pydanitc_agent\n",
    "            \n",
    "    def invoke_agent(self, message, feedback_source):\n",
    "        self.actions_called = []\n",
    "        self.agent.run_sync(\n",
    "            message,\n",
    "            deps=AgentContext(agent=self, feedback_source=feedback_source)\n",
    "        )\n",
    "        actions_called = self.actions_called\n",
    "        data_state = {\n",
    "            \"get_email_activity\": self.data_connector.get_email_activity()\n",
    "        }\n",
    "        return {\n",
    "            \"actions\": actions_called,\n",
    "            \"data_state\": data_state\n",
    "        }\n",
    "\n",
    "\n",
    "default_feedback_source = FeedbackData()\n",
    "\n",
    "cs_agent = CustomerServiceAgent(db_connector)\n",
    "res = cs_agent.invoke_agent(\"New email came in for customer. Please gather context and recommend an action.\", default_feedback_source)\n",
    "print(res[\"actions\"])"
   ]
  },
  {
   "cell_type": "code",
   "execution_count": 0,
   "metadata": {
    "application/vnd.databricks.v1+cell": {
     "cellMetadata": {
      "byteLimit": 2048000,
      "rowLimit": 10000
     },
     "inputWidgets": {},
     "nuid": "1e7021ab-4d5a-4ffb-bd59-6f9eb0adf786",
     "showTitle": false,
     "tableResultSettingsMap": {},
     "title": ""
    }
   },
   "outputs": [
    {
     "output_type": "execute_result",
     "data": {
      "text/plain": [
       "{'actions': [{'action': 'ACTION_SEND_EMAIL',\n",
       "   'metadata': {'purpose': 'The customer requires driveway paving services. Recommend sending an email to schedule a site visit to assess the driveway and provide a quote.'}}],\n",
       " 'data_state': {'get_email_activity': {'subject': 'Drive way paving',\n",
       "   'content': 'We have a driveway that needs to be paved. Can I get someone out'}}}"
      ]
     },
     "execution_count": 15,
     "metadata": {},
     "output_type": "execute_result"
    }
   ],
   "source": [
    "res"
   ]
  },
  {
   "cell_type": "code",
   "execution_count": 0,
   "metadata": {
    "application/vnd.databricks.v1+cell": {
     "cellMetadata": {
      "byteLimit": 2048000,
      "rowLimit": 10000
     },
     "inputWidgets": {},
     "nuid": "8d1340e0-f401-4cc9-a915-64037017b16c",
     "showTitle": false,
     "tableResultSettingsMap": {},
     "title": ""
    }
   },
   "outputs": [],
   "source": [
    "# Dreaming cycle\n",
    "NEW_FEEDBACK_DATA = [\n",
    "    {\n",
    "        \"data\": res[\"data_state\"],\n",
    "        \"predicted_action\": \"ACTION_SEND_EMAIL\",\n",
    "        \"expected_action\": \"ACTION_CLOSE_TICKET\",\n",
    "        \"reasoning\": \"Paving of driveways is not something that we do\"\n",
    "    },\n",
    "    {\n",
    "        \"data\": {\n",
    "            \"get_email_activity\": {\n",
    "                \"subject\": \"My pool is broken\",\n",
    "                \"content\": \"The filter on my pool is broken. Can I get a service representative to come here stat.\"\n",
    "            }\n",
    "        },\n",
    "        \"predicted_action\": \"ACTION_SEND_EMAIL\",\n",
    "        \"expected_action\": \"ACTION_CLOSE_TICKET\",\n",
    "        \"reasoning\": \"Pool repairs is not something that we do\"\n",
    "    }\n",
    "]"
   ]
  },
  {
   "cell_type": "code",
   "execution_count": 0,
   "metadata": {
    "application/vnd.databricks.v1+cell": {
     "cellMetadata": {
      "byteLimit": 2048000,
      "rowLimit": 10000
     },
     "inputWidgets": {},
     "nuid": "a36c800a-ae80-45ac-82c1-dc14476d022c",
     "showTitle": false,
     "tableResultSettingsMap": {},
     "title": ""
    }
   },
   "outputs": [
    {
     "output_type": "stream",
     "name": "stdout",
     "output_type": "stream",
     "text": [
      "Generating new rule to accomodate feedback.\nProposed rule is: \"Business Context Rule: If an email inquiry relates to a service not offered, such as driveway paving, the representative should close the ticket without sending a response.\"\nVerifying new rule...\n  TOOL CALL: get_email_activity\n  TOOL CALL: action_close_ticket: Driveway paving is not a service we offer. Closing ticket as per standard procedure for requests outside our service scope.\nPassed cases: 1 / 1\nGenerating new rule to accomodate feedback.\nProposed rule is: \"Business Context Rule: If a customer's request falls outside the company's service scope, such as pool repair, close the ticket instead of initiating any further action like sending an email.\"\nVerifying new rule...\n  TOOL CALL: get_email_activity\n  TOOL CALL: action_close_ticket: The inquiry involves a request for driveway paving, which is a service not offered by our company.\n  TOOL CALL: get_email_activity\n  TOOL CALL: action_close_ticket: The request involves pool repair, a service not offered by our company.\nPassed cases: 2 / 2\n"
     ]
    }
   ],
   "source": [
    "feedback_that_should_be_accounted_for = []\n",
    "for new_feedback_data in NEW_FEEDBACK_DATA:\n",
    "    print(\"Generating new rule to accomodate feedback.\")\n",
    "    feedback_agent = Agent(\n",
    "        'openai:gpt-4o',\n",
    "        system_prompt=\"You are given some feedback. Your job is to provide a short consice and specific buisness context rule for the representantice to be reference to ensure the incorrect action doesn't happen again. Please make sure it is specific, short, and uses the sample as an example.\"\n",
    "    )\n",
    "\n",
    "    input_pormpt = f\"\"\"\n",
    "    data_available: {new_feedback_data[\"data\"]}\n",
    "    predicted_action: {new_feedback_data[\"predicted_action\"]}\n",
    "    expected_action: {new_feedback_data[\"expected_action\"]}\n",
    "    reasoning: {new_feedback_data[\"reasoning\"]}\n",
    "    \"\"\"\n",
    "\n",
    "    proposed_rule = feedback_agent.run_sync(input_pormpt).output\n",
    "\n",
    "    print(f\"Proposed rule is: \\\"{proposed_rule}\\\"\")\n",
    "\n",
    "    proposed_feedback_source = FeedbackData()\n",
    "    for fb in default_feedback_source.get_feedback():\n",
    "        proposed_feedback_source.add_feedback(fb)\n",
    "    proposed_feedback_source.add_feedback(proposed_rule)\n",
    "\n",
    "    feedback_that_should_be_accounted_for.append(new_feedback_data)\n",
    "\n",
    "    # Verify the agent learned\n",
    "    print(f\"Verifying new rule...\")\n",
    "    passed_cases = 0\n",
    "    failed_cases = 0\n",
    "    for x in feedback_that_should_be_accounted_for:\n",
    "        test_agent = CustomerServiceAgent(MockDataConnector(x[\"data\"]))\n",
    "        new_res = test_agent.invoke_agent(\"New email came in for customer. Please gather context and recommend an action.\", proposed_feedback_source)\n",
    "        if new_res[\"actions\"][0][\"action\"] == x[\"expected_action\"]:\n",
    "            passed_cases += 1\n",
    "        else:\n",
    "            failed_cases += 1\n",
    "\n",
    "    print(f\"Passed cases: {passed_cases} / {passed_cases + failed_cases}\")\n",
    "\n",
    "    default_feedback_source.add_feedback(proposed_rule)"
   ]
  }
 ],
 "metadata": {
  "application/vnd.databricks.v1+notebook": {
   "computePreferences": null,
   "dashboards": [],
   "environmentMetadata": {
    "base_environment": "",
    "environment_version": "2"
   },
   "inputWidgetPreferences": null,
   "language": "python",
   "notebookMetadata": {
    "mostRecentlyExecutedCommandWithImplicitDF": {
     "commandId": 7706807334668075,
     "dataframes": [
      "_sqldf"
     ]
    },
    "pythonIndentUnit": 4
   },
   "notebookName": "CSAgentDreaming",
   "widgets": {}
  },
  "language_info": {
   "name": "python"
  }
 },
 "nbformat": 4,
 "nbformat_minor": 0
}